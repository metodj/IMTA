{
 "cells": [
  {
   "cell_type": "code",
   "execution_count": 1,
   "metadata": {},
   "outputs": [
    {
     "name": "stderr",
     "output_type": "stream",
     "text": [
      "/home/metod/miniconda3/envs/imta/lib/python3.8/site-packages/tqdm/auto.py:22: TqdmWarning: IProgress not found. Please update jupyter and ipywidgets. See https://ipywidgets.readthedocs.io/en/stable/user_install.html\n",
      "  from .autonotebook import tqdm as notebook_tqdm\n"
     ]
    }
   ],
   "source": [
    "import torch\n",
    "import numpy as np\n",
    "import matplotlib.pyplot as plt\n",
    "# import seaborn as sns\n",
    "# import scipy\n",
    "# from netcal.metrics import ECE, ACE\n",
    "\n",
    "from dataloader import get_dataloaders\n",
    "from models.msdnet_ge import MSDNet\n",
    "from models.msdnet_imta import IMTA_MSDNet\n",
    "from utils import parse_args\n",
    "from utils_notebook import f_probs_ovr_poe_logits_weighted, modal_probs_decreasing, f_probs_ovr_poe_logits_weighted_generalized, \\\n",
    "            anytime_caching, get_metrics_for_paper, get_metrics_with_error_bars, get_logits_targets_imta_image_net\n",
    "\n",
    "import torchvision.transforms as transforms\n",
    "import torchvision.datasets as datasets\n",
    "\n",
    "from collections import OrderedDict, Counter\n",
    "import random\n",
    "import os\n",
    "from typing import Dict\n",
    "\n",
    "from tqdm import tqdm"
   ]
  },
  {
   "cell_type": "code",
   "execution_count": 5,
   "metadata": {},
   "outputs": [
    {
     "name": "stdout",
     "output_type": "stream",
     "text": [
      "building network of steps: \n",
      "[4, 4, 4, 4, 4] 20\n",
      " ********************** Block 1  **********************\n",
      "|\t\tinScales 4 outScales 4 inChannels 32 outChannels 16\t\t|\n",
      "\n",
      "|\t\tinScales 4 outScales 4 inChannels 48 outChannels 16\t\t|\n",
      "\n",
      "|\t\tinScales 4 outScales 4 inChannels 64 outChannels 16\t\t|\n",
      "\n",
      "|\t\tinScales 4 outScales 4 inChannels 80 outChannels 16\t\t|\n",
      "\n",
      " ********************** Block 2  **********************\n",
      "|\t\tinScales 4 outScales 4 inChannels 96 outChannels 16\t\t|\n",
      "\n",
      "|\t\tinScales 4 outScales 3 inChannels 112 outChannels 16\t\t|\n",
      "|\t\tTransition layer inserted! (max), inChannels 128, outChannels 64\t|\n",
      "\n",
      "|\t\tinScales 3 outScales 3 inChannels 64 outChannels 16\t\t|\n",
      "\n",
      "|\t\tinScales 3 outScales 3 inChannels 80 outChannels 16\t\t|\n",
      "\n",
      " ********************** Block 3  **********************\n",
      "|\t\tinScales 3 outScales 3 inChannels 96 outChannels 16\t\t|\n",
      "\n",
      "|\t\tinScales 3 outScales 3 inChannels 112 outChannels 16\t\t|\n",
      "\n",
      "|\t\tinScales 3 outScales 2 inChannels 128 outChannels 16\t\t|\n",
      "|\t\tTransition layer inserted! (max), inChannels 144, outChannels 72\t|\n",
      "\n",
      "|\t\tinScales 2 outScales 2 inChannels 72 outChannels 16\t\t|\n",
      "\n",
      " ********************** Block 4  **********************\n",
      "|\t\tinScales 2 outScales 2 inChannels 88 outChannels 16\t\t|\n",
      "\n",
      "|\t\tinScales 2 outScales 2 inChannels 104 outChannels 16\t\t|\n",
      "\n",
      "|\t\tinScales 2 outScales 2 inChannels 120 outChannels 16\t\t|\n",
      "\n",
      "|\t\tinScales 2 outScales 1 inChannels 136 outChannels 16\t\t|\n",
      "|\t\tTransition layer inserted! (max), inChannels 152, outChannels 76\t|\n",
      "\n",
      " ********************** Block 5  **********************\n",
      "|\t\tinScales 1 outScales 1 inChannels 76 outChannels 16\t\t|\n",
      "\n",
      "|\t\tinScales 1 outScales 1 inChannels 92 outChannels 16\t\t|\n",
      "\n",
      "|\t\tinScales 1 outScales 1 inChannels 108 outChannels 16\t\t|\n",
      "\n",
      "|\t\tinScales 1 outScales 1 inChannels 124 outChannels 16\t\t|\n",
      "\n",
      "!!!!!! Load pretrained model !!!!!!\n",
      "_models/ImageNet/model1_IMTA/checkpoint_059.pth.tar\n"
     ]
    }
   ],
   "source": [
    "logits, targets = get_logits_targets_imta_image_net(model_name='model1_IMTA', epoch='59', model_name_pretrained='model1', epoch_pretrained='89', dataset='ImageNet')"
   ]
  },
  {
   "cell_type": "code",
   "execution_count": 6,
   "metadata": {},
   "outputs": [
    {
     "data": {
      "text/plain": [
       "torch.Size([5, 50000, 1000])"
      ]
     },
     "execution_count": 6,
     "metadata": {},
     "output_type": "execute_result"
    }
   ],
   "source": [
    "logits.shape"
   ]
  },
  {
   "cell_type": "code",
   "execution_count": 7,
   "metadata": {},
   "outputs": [],
   "source": [
    "acc, mono_modal, mono_correct = get_metrics_for_paper(logits, targets, model_name='IMTA')"
   ]
  },
  {
   "cell_type": "code",
   "execution_count": 12,
   "metadata": {},
   "outputs": [
    {
     "data": {
      "text/plain": [
       "{'IMTA': [79.162, 61.17, 42.818, 30.452, 15.556, 10.884, 5.71, 1.184],\n",
       " 'IMTA-PA': [0.0, 0.0, 0.0, 0.0, 0.0, 0.0, 0.0, 0.0],\n",
       " 'IMTA-CA': [4.704, 4.006, 2.592, 1.588, 0.594, 0.31, 0.122, 0.01]}"
      ]
     },
     "execution_count": 12,
     "metadata": {},
     "output_type": "execute_result"
    }
   ],
   "source": [
    "mono_modal"
   ]
  },
  {
   "cell_type": "code",
   "execution_count": 13,
   "metadata": {},
   "outputs": [
    {
     "data": {
      "text/plain": [
       "{'IMTA': [82.24, 60.814, 40.944, 29.096, 15.462, 11.318, 6.688, 1.864],\n",
       " 'IMTA-PA': [1.746, 0.0, 0.0, 0.0, 0.0, 0.0, 0.0, 0.0],\n",
       " 'IMTA-CA': [19.558, 14.512, 9.326, 6.332, 3.08, 2.198, 1.252, 0.332]}"
      ]
     },
     "execution_count": 13,
     "metadata": {},
     "output_type": "execute_result"
    }
   ],
   "source": [
    "mono_correct"
   ]
  },
  {
   "cell_type": "code",
   "execution_count": null,
   "metadata": {},
   "outputs": [],
   "source": []
  },
  {
   "cell_type": "code",
   "execution_count": 4,
   "metadata": {},
   "outputs": [],
   "source": [
    "MODEL = 'IMTA'\n",
    "DATASET = 'ImageNet'\n",
    "MODELS = [('model1_IMTA', 59, 'model1', 89), ('model_seed_1_IMTA/save_models', 89, 'models_ge_seed_1/save_models', 89), \n",
    "            ('model_seed_2_IMTA/save_models', 89, 'models_ge_seed_2/save_models', 89)]"
   ]
  },
  {
   "cell_type": "code",
   "execution_count": 5,
   "metadata": {},
   "outputs": [
    {
     "name": "stdout",
     "output_type": "stream",
     "text": [
      "building network of steps: \n",
      "[4, 4, 4, 4, 4] 20\n",
      " ********************** Block 1  **********************\n",
      "|\t\tinScales 4 outScales 4 inChannels 32 outChannels 16\t\t|\n",
      "\n",
      "|\t\tinScales 4 outScales 4 inChannels 48 outChannels 16\t\t|\n",
      "\n",
      "|\t\tinScales 4 outScales 4 inChannels 64 outChannels 16\t\t|\n",
      "\n",
      "|\t\tinScales 4 outScales 4 inChannels 80 outChannels 16\t\t|\n",
      "\n",
      " ********************** Block 2  **********************\n",
      "|\t\tinScales 4 outScales 4 inChannels 96 outChannels 16\t\t|\n",
      "\n",
      "|\t\tinScales 4 outScales 3 inChannels 112 outChannels 16\t\t|\n",
      "|\t\tTransition layer inserted! (max), inChannels 128, outChannels 64\t|\n",
      "\n",
      "|\t\tinScales 3 outScales 3 inChannels 64 outChannels 16\t\t|\n",
      "\n",
      "|\t\tinScales 3 outScales 3 inChannels 80 outChannels 16\t\t|\n",
      "\n",
      " ********************** Block 3  **********************\n",
      "|\t\tinScales 3 outScales 3 inChannels 96 outChannels 16\t\t|\n",
      "\n",
      "|\t\tinScales 3 outScales 3 inChannels 112 outChannels 16\t\t|\n",
      "\n",
      "|\t\tinScales 3 outScales 2 inChannels 128 outChannels 16\t\t|\n",
      "|\t\tTransition layer inserted! (max), inChannels 144, outChannels 72\t|\n",
      "\n",
      "|\t\tinScales 2 outScales 2 inChannels 72 outChannels 16\t\t|\n",
      "\n",
      " ********************** Block 4  **********************\n",
      "|\t\tinScales 2 outScales 2 inChannels 88 outChannels 16\t\t|\n",
      "\n",
      "|\t\tinScales 2 outScales 2 inChannels 104 outChannels 16\t\t|\n",
      "\n",
      "|\t\tinScales 2 outScales 2 inChannels 120 outChannels 16\t\t|\n",
      "\n",
      "|\t\tinScales 2 outScales 1 inChannels 136 outChannels 16\t\t|\n",
      "|\t\tTransition layer inserted! (max), inChannels 152, outChannels 76\t|\n",
      "\n",
      " ********************** Block 5  **********************\n",
      "|\t\tinScales 1 outScales 1 inChannels 76 outChannels 16\t\t|\n",
      "\n",
      "|\t\tinScales 1 outScales 1 inChannels 92 outChannels 16\t\t|\n",
      "\n",
      "|\t\tinScales 1 outScales 1 inChannels 108 outChannels 16\t\t|\n",
      "\n",
      "|\t\tinScales 1 outScales 1 inChannels 124 outChannels 16\t\t|\n",
      "\n",
      "!!!!!! Load pretrained model !!!!!!\n",
      "_models/ImageNet/model1_IMTA/checkpoint_059.pth.tar\n",
      "building network of steps: \n",
      "[4, 4, 4, 4, 4] 20\n",
      " ********************** Block 1  **********************\n",
      "|\t\tinScales 4 outScales 4 inChannels 32 outChannels 16\t\t|\n",
      "\n",
      "|\t\tinScales 4 outScales 4 inChannels 48 outChannels 16\t\t|\n",
      "\n",
      "|\t\tinScales 4 outScales 4 inChannels 64 outChannels 16\t\t|\n",
      "\n",
      "|\t\tinScales 4 outScales 4 inChannels 80 outChannels 16\t\t|\n",
      "\n",
      " ********************** Block 2  **********************\n",
      "|\t\tinScales 4 outScales 4 inChannels 96 outChannels 16\t\t|\n",
      "\n",
      "|\t\tinScales 4 outScales 3 inChannels 112 outChannels 16\t\t|\n",
      "|\t\tTransition layer inserted! (max), inChannels 128, outChannels 64\t|\n",
      "\n",
      "|\t\tinScales 3 outScales 3 inChannels 64 outChannels 16\t\t|\n",
      "\n",
      "|\t\tinScales 3 outScales 3 inChannels 80 outChannels 16\t\t|\n",
      "\n",
      " ********************** Block 3  **********************\n",
      "|\t\tinScales 3 outScales 3 inChannels 96 outChannels 16\t\t|\n",
      "\n",
      "|\t\tinScales 3 outScales 3 inChannels 112 outChannels 16\t\t|\n",
      "\n",
      "|\t\tinScales 3 outScales 2 inChannels 128 outChannels 16\t\t|\n",
      "|\t\tTransition layer inserted! (max), inChannels 144, outChannels 72\t|\n",
      "\n",
      "|\t\tinScales 2 outScales 2 inChannels 72 outChannels 16\t\t|\n",
      "\n",
      " ********************** Block 4  **********************\n",
      "|\t\tinScales 2 outScales 2 inChannels 88 outChannels 16\t\t|\n",
      "\n",
      "|\t\tinScales 2 outScales 2 inChannels 104 outChannels 16\t\t|\n",
      "\n",
      "|\t\tinScales 2 outScales 2 inChannels 120 outChannels 16\t\t|\n",
      "\n",
      "|\t\tinScales 2 outScales 1 inChannels 136 outChannels 16\t\t|\n",
      "|\t\tTransition layer inserted! (max), inChannels 152, outChannels 76\t|\n",
      "\n",
      " ********************** Block 5  **********************\n",
      "|\t\tinScales 1 outScales 1 inChannels 76 outChannels 16\t\t|\n",
      "\n",
      "|\t\tinScales 1 outScales 1 inChannels 92 outChannels 16\t\t|\n",
      "\n",
      "|\t\tinScales 1 outScales 1 inChannels 108 outChannels 16\t\t|\n",
      "\n",
      "|\t\tinScales 1 outScales 1 inChannels 124 outChannels 16\t\t|\n",
      "\n",
      "!!!!!! Load pretrained model !!!!!!\n",
      "_models/ImageNet/model_seed_1_IMTA/save_models/checkpoint_089.pth.tar\n",
      "building network of steps: \n",
      "[4, 4, 4, 4, 4] 20\n",
      " ********************** Block 1  **********************\n",
      "|\t\tinScales 4 outScales 4 inChannels 32 outChannels 16\t\t|\n",
      "\n",
      "|\t\tinScales 4 outScales 4 inChannels 48 outChannels 16\t\t|\n",
      "\n",
      "|\t\tinScales 4 outScales 4 inChannels 64 outChannels 16\t\t|\n",
      "\n",
      "|\t\tinScales 4 outScales 4 inChannels 80 outChannels 16\t\t|\n",
      "\n",
      " ********************** Block 2  **********************\n",
      "|\t\tinScales 4 outScales 4 inChannels 96 outChannels 16\t\t|\n",
      "\n",
      "|\t\tinScales 4 outScales 3 inChannels 112 outChannels 16\t\t|\n",
      "|\t\tTransition layer inserted! (max), inChannels 128, outChannels 64\t|\n",
      "\n",
      "|\t\tinScales 3 outScales 3 inChannels 64 outChannels 16\t\t|\n",
      "\n",
      "|\t\tinScales 3 outScales 3 inChannels 80 outChannels 16\t\t|\n",
      "\n",
      " ********************** Block 3  **********************\n",
      "|\t\tinScales 3 outScales 3 inChannels 96 outChannels 16\t\t|\n",
      "\n",
      "|\t\tinScales 3 outScales 3 inChannels 112 outChannels 16\t\t|\n",
      "\n",
      "|\t\tinScales 3 outScales 2 inChannels 128 outChannels 16\t\t|\n",
      "|\t\tTransition layer inserted! (max), inChannels 144, outChannels 72\t|\n",
      "\n",
      "|\t\tinScales 2 outScales 2 inChannels 72 outChannels 16\t\t|\n",
      "\n",
      " ********************** Block 4  **********************\n",
      "|\t\tinScales 2 outScales 2 inChannels 88 outChannels 16\t\t|\n",
      "\n",
      "|\t\tinScales 2 outScales 2 inChannels 104 outChannels 16\t\t|\n",
      "\n",
      "|\t\tinScales 2 outScales 2 inChannels 120 outChannels 16\t\t|\n",
      "\n",
      "|\t\tinScales 2 outScales 1 inChannels 136 outChannels 16\t\t|\n",
      "|\t\tTransition layer inserted! (max), inChannels 152, outChannels 76\t|\n",
      "\n",
      " ********************** Block 5  **********************\n",
      "|\t\tinScales 1 outScales 1 inChannels 76 outChannels 16\t\t|\n",
      "\n",
      "|\t\tinScales 1 outScales 1 inChannels 92 outChannels 16\t\t|\n",
      "\n",
      "|\t\tinScales 1 outScales 1 inChannels 108 outChannels 16\t\t|\n",
      "\n",
      "|\t\tinScales 1 outScales 1 inChannels 124 outChannels 16\t\t|\n",
      "\n",
      "!!!!!! Load pretrained model !!!!!!\n",
      "_models/ImageNet/model_seed_2_IMTA/save_models/checkpoint_089.pth.tar\n"
     ]
    },
    {
     "data": {
      "text/plain": [
       "({'IMTA': ([0.5774, 0.6627, 0.7033, 0.7216, 0.729],\n",
       "   [0.0045, 0.0036, 0.0025, 0.0025, 0.0024]),\n",
       "  'IMTA-PA': ([0.5774, 0.6563, 0.6965, 0.7173, 0.7319],\n",
       "   [0.0045, 0.0018, 0.0025, 0.0026, 0.0015]),\n",
       "  'IMTA-CA': ([0.5774, 0.6512, 0.6905, 0.711, 0.7238],\n",
       "   [0.0045, 0.0036, 0.0026, 0.0027, 0.0018])},\n",
       " {'IMTA': ([79.1333,\n",
       "    61.1807,\n",
       "    42.5867,\n",
       "    30.0993,\n",
       "    15.1393,\n",
       "    10.4193,\n",
       "    5.4133,\n",
       "    1.058],\n",
       "   [0.0449, 0.0335, 0.1919, 0.2804, 0.3083, 0.3413, 0.2103, 0.0892]),\n",
       "  'IMTA-PA': ([0.0, 0.0, 0.0, 0.0, 0.0, 0.0, 0.0, 0.0],\n",
       "   [0.0, 0.0, 0.0, 0.0, 0.0, 0.0, 0.0, 0.0]),\n",
       "  'IMTA-CA': ([4.686, 3.9747, 2.554, 1.5093, 0.5273, 0.284, 0.116, 0.0153],\n",
       "   [0.313, 0.2679, 0.1615, 0.0798, 0.0511, 0.0193, 0.0049, 0.0062])},\n",
       " {'IMTA': ([82.066, 60.61, 40.5113, 28.5447, 14.9687, 10.7493, 6.244, 1.7033],\n",
       "   [0.1294, 0.145, 0.3085, 0.3908, 0.3494, 0.4029, 0.3147, 0.1176]),\n",
       "  'IMTA-PA': ([1.7607, 0.0007, 0.0, 0.0, 0.0, 0.0, 0.0, 0.0],\n",
       "   [0.0105, 0.0009, 0.0, 0.0, 0.0, 0.0, 0.0, 0.0]),\n",
       "  'IMTA-CA': ([19.2607,\n",
       "    14.3067,\n",
       "    9.0813,\n",
       "    6.0527,\n",
       "    2.9487,\n",
       "    2.0907,\n",
       "    1.216,\n",
       "    0.3187],\n",
       "   [0.2267, 0.2066, 0.187, 0.1975, 0.1046, 0.0786, 0.0286, 0.0136])})"
      ]
     },
     "execution_count": 5,
     "metadata": {},
     "output_type": "execute_result"
    }
   ],
   "source": [
    "get_metrics_with_error_bars(model_name=MODEL, dataset=DATASET, model_list=MODELS)"
   ]
  },
  {
   "attachments": {},
   "cell_type": "markdown",
   "metadata": {},
   "source": [
    "# 1 Anytime performance"
   ]
  },
  {
   "cell_type": "code",
   "execution_count": 8,
   "metadata": {},
   "outputs": [],
   "source": [
    "L = len(logits)\n",
    "N = logits.shape[1]"
   ]
  },
  {
   "cell_type": "code",
   "execution_count": 9,
   "metadata": {},
   "outputs": [],
   "source": [
    "probs = torch.softmax(logits, dim=2)\n",
    "preds = {i: torch.argmax(probs, dim=2)[i, :] for i in range(L)}\n",
    "acc = [(targets == preds[i]).sum() / len(targets) for i in range(L)]"
   ]
  },
  {
   "cell_type": "code",
   "execution_count": 10,
   "metadata": {},
   "outputs": [
    {
     "data": {
      "text/plain": [
       "[0.5716, 0.6585, 0.6998, 0.7186, 0.7275]"
      ]
     },
     "execution_count": 10,
     "metadata": {},
     "output_type": "execute_result"
    }
   ],
   "source": [
    "[round(float(x), 4) for x in acc]"
   ]
  },
  {
   "cell_type": "code",
   "execution_count": 11,
   "metadata": {},
   "outputs": [
    {
     "data": {
      "text/plain": [
       "[79.162, 61.17, 42.818, 30.452, 15.556, 10.884, 5.71, 1.184]"
      ]
     },
     "execution_count": 11,
     "metadata": {},
     "output_type": "execute_result"
    }
   ],
   "source": [
    "[round(x, 4) for x in modal_probs_decreasing(preds, probs, L, N=N, thresholds=[-0.0001, -0.01, -0.05, -0.1, -0.2, -0.25, -0.33, -0.5], diffs_type=\"all\").values()]"
   ]
  },
  {
   "cell_type": "code",
   "execution_count": 13,
   "metadata": {},
   "outputs": [],
   "source": [
    "T = 1.\n",
    "probs_poe_ovr_break_ties_generalized = torch.tensor(f_probs_ovr_poe_logits_weighted_generalized(logits, weights=(np.arange(1, L + 1, 1, dtype=float) / L) * T))\n",
    "preds_poe_ovr_break_ties_generalized = {i: torch.argmax(probs_poe_ovr_break_ties_generalized, dim=2)[i, :] for i in range(L)}\n",
    "acc_poe_ovr_break_ties_generalized = [(targets == preds_poe_ovr_break_ties_generalized[i]).sum() / len(targets) for i in range(L)]"
   ]
  },
  {
   "cell_type": "code",
   "execution_count": 14,
   "metadata": {},
   "outputs": [
    {
     "data": {
      "text/plain": [
       "[0.5716, 0.6541, 0.6931, 0.7142, 0.7304]"
      ]
     },
     "execution_count": 14,
     "metadata": {},
     "output_type": "execute_result"
    }
   ],
   "source": [
    "[round(float(x), 4) for x in acc_poe_ovr_break_ties_generalized]"
   ]
  },
  {
   "cell_type": "code",
   "execution_count": 15,
   "metadata": {},
   "outputs": [
    {
     "data": {
      "text/plain": [
       "[0.0, 0.0, 0.0, 0.0, 0.0, 0.0, 0.0, 0.0]"
      ]
     },
     "execution_count": 15,
     "metadata": {},
     "output_type": "execute_result"
    }
   ],
   "source": [
    "[round(x, 4) for x in modal_probs_decreasing(preds_poe_ovr_break_ties_generalized, \n",
    "                                            probs_poe_ovr_break_ties_generalized, L, N=N, thresholds=[-0.0001, -0.01, -0.05, -0.1, -0.2, -0.25, -0.33, -0.5], diffs_type=\"all\").values()]"
   ]
  },
  {
   "cell_type": "code",
   "execution_count": 16,
   "metadata": {},
   "outputs": [],
   "source": [
    "probs_stateful = probs_stateful = anytime_caching(probs, N=N, L=L)\n",
    "preds_stateful = {i: torch.argmax(probs_stateful, dim=2)[i, :] for i in range(L)}\n",
    "acc_stateful = [(targets == preds_stateful[i]).sum() / len(targets) for i in range(L)]"
   ]
  },
  {
   "cell_type": "code",
   "execution_count": 17,
   "metadata": {},
   "outputs": [
    {
     "data": {
      "text/plain": [
       "[0.5716, 0.6467, 0.6868, 0.7078, 0.7219]"
      ]
     },
     "execution_count": 17,
     "metadata": {},
     "output_type": "execute_result"
    }
   ],
   "source": [
    "[round(float(x), 4) for x in acc_stateful]"
   ]
  },
  {
   "cell_type": "code",
   "execution_count": 18,
   "metadata": {},
   "outputs": [
    {
     "data": {
      "text/plain": [
       "[4.704, 4.006, 2.592, 1.588, 0.594, 0.31, 0.122, 0.01]"
      ]
     },
     "execution_count": 18,
     "metadata": {},
     "output_type": "execute_result"
    }
   ],
   "source": [
    "[round(x, 4) for x in modal_probs_decreasing(preds_stateful, probs_stateful, L, N=N, thresholds=[-0.0001, -0.01, -0.05, -0.1, -0.2, -0.25, -0.33, -0.5], diffs_type=\"all\").values()]"
   ]
  },
  {
   "cell_type": "code",
   "execution_count": null,
   "metadata": {},
   "outputs": [],
   "source": []
  }
 ],
 "metadata": {
  "kernelspec": {
   "display_name": "imta",
   "language": "python",
   "name": "python3"
  },
  "language_info": {
   "codemirror_mode": {
    "name": "ipython",
    "version": 3
   },
   "file_extension": ".py",
   "mimetype": "text/x-python",
   "name": "python",
   "nbconvert_exporter": "python",
   "pygments_lexer": "ipython3",
   "version": "3.8.16"
  },
  "orig_nbformat": 4,
  "vscode": {
   "interpreter": {
    "hash": "a8162a52460c811d096d70aa9cf13d69489dd31268c9e48f73d780970d3d129f"
   }
  }
 },
 "nbformat": 4,
 "nbformat_minor": 2
}
