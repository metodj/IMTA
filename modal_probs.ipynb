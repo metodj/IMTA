{
 "cells": [
  {
   "cell_type": "code",
   "execution_count": 1,
   "metadata": {},
   "outputs": [
    {
     "name": "stderr",
     "output_type": "stream",
     "text": [
      "/home/metod/miniconda3/envs/imta/lib/python3.8/site-packages/tqdm/auto.py:22: TqdmWarning: IProgress not found. Please update jupyter and ipywidgets. See https://ipywidgets.readthedocs.io/en/stable/user_install.html\n",
      "  from .autonotebook import tqdm as notebook_tqdm\n"
     ]
    }
   ],
   "source": [
    "import torch\n",
    "import numpy as np\n",
    "import matplotlib.pyplot as plt\n",
    "# import seaborn as sns\n",
    "# import scipy\n",
    "# from netcal.metrics import ECE, ACE\n",
    "\n",
    "from utils_notebook import f_probs_ovr_poe_logits_weighted, modal_probs_decreasing, f_probs_ovr_poe_logits_weighted_generalized, anytime_caching, \\\n",
    "                    get_metrics_for_paper, get_logits_targets_imta, get_metrics_with_error_bars\n",
    "\n",
    "from collections import OrderedDict, Counter\n",
    "import random\n",
    "from typing import Dict"
   ]
  },
  {
   "cell_type": "code",
   "execution_count": 2,
   "metadata": {},
   "outputs": [],
   "source": [
    "# MODEL = \"model1\"\n",
    "# IMTA = True\n",
    "# DATASET = 'cifar10'\n",
    "\n",
    "MODEL = \"model2\"\n",
    "IMTA = True\n",
    "DATASET = 'cifar100'\n",
    "\n",
    "\n",
    "if IMTA:\n",
    "    MODEL += \"_IMTA\"\n",
    "    EPOCH = \"179\"\n",
    "else:\n",
    "    EPOCH = \"299\""
   ]
  },
  {
   "cell_type": "markdown",
   "metadata": {},
   "source": [
    "## 0 Load pretrained model"
   ]
  },
  {
   "cell_type": "code",
   "execution_count": 3,
   "metadata": {},
   "outputs": [
    {
     "name": "stdout",
     "output_type": "stream",
     "text": [
      "building network of steps: \n",
      "[4, 2, 2, 2, 2, 2, 2] 16\n",
      " ********************** Block 1  **********************\n",
      "|\t\tinScales 3 outScales 3 inChannels 16 outChannels 6\t\t|\n",
      "\n",
      "|\t\tinScales 3 outScales 3 inChannels 22 outChannels 6\t\t|\n",
      "\n",
      "|\t\tinScales 3 outScales 3 inChannels 28 outChannels 6\t\t|\n",
      "\n",
      "|\t\tinScales 3 outScales 3 inChannels 34 outChannels 6\t\t|\n",
      "\n",
      " ********************** Block 2  **********************\n",
      "|\t\tinScales 3 outScales 3 inChannels 40 outChannels 6\t\t|\n",
      "\n",
      "|\t\tinScales 3 outScales 3 inChannels 46 outChannels 6\t\t|\n",
      "\n",
      " ********************** Block 3  **********************\n",
      "|\t\tinScales 3 outScales 2 inChannels 52 outChannels 6\t\t|\n",
      "|\t\tTransition layer inserted! (max), inChannels 58, outChannels 29\t|\n",
      "\n",
      "|\t\tinScales 2 outScales 2 inChannels 29 outChannels 6\t\t|\n",
      "\n",
      " ********************** Block 4  **********************\n",
      "|\t\tinScales 2 outScales 2 inChannels 35 outChannels 6\t\t|\n",
      "\n",
      "|\t\tinScales 2 outScales 2 inChannels 41 outChannels 6\t\t|\n",
      "\n",
      " ********************** Block 5  **********************\n",
      "|\t\tinScales 2 outScales 2 inChannels 47 outChannels 6\t\t|\n",
      "\n",
      "|\t\tinScales 2 outScales 2 inChannels 53 outChannels 6\t\t|\n",
      "\n",
      " ********************** Block 6  **********************\n",
      "|\t\tinScales 2 outScales 1 inChannels 59 outChannels 6\t\t|\n",
      "|\t\tTransition layer inserted! (max), inChannels 65, outChannels 32\t|\n",
      "\n",
      "|\t\tinScales 1 outScales 1 inChannels 32 outChannels 6\t\t|\n",
      "\n",
      " ********************** Block 7  **********************\n",
      "|\t\tinScales 1 outScales 1 inChannels 38 outChannels 6\t\t|\n",
      "\n",
      "|\t\tinScales 1 outScales 1 inChannels 44 outChannels 6\t\t|\n",
      "\n",
      "!!!!!! Load pretrained model !!!!!!\n",
      "_models/cifar100/model2_IMTA/save_models/checkpoint_179.pth.tar\n",
      "Files already downloaded and verified\n",
      "Files already downloaded and verified\n",
      "!!!!!! Load train_set_index !!!!!!\n",
      "------------------------------------\n",
      "split num_sample_valid: 5000\n",
      "------------------------------------\n"
     ]
    }
   ],
   "source": [
    "logits, targets = get_logits_targets_imta(model_name='model2_IMTA', dataset='cifar100', epoch=179, model_pretrained='model1', epoch_pretrained=299)"
   ]
  },
  {
   "cell_type": "code",
   "execution_count": 4,
   "metadata": {},
   "outputs": [],
   "source": [
    "acc, mono_modal, mono_correct = get_metrics_for_paper(logits, targets, model_name='IMTA')"
   ]
  },
  {
   "cell_type": "code",
   "execution_count": 5,
   "metadata": {},
   "outputs": [
    {
     "data": {
      "text/plain": [
       "{'IMTA': [74.75, 53.61, 41.85, 35.13, 25.96, 22.8, 17.69, 9.39],\n",
       " 'IMTA-PA': [0.3, 0.15, 0.02, 0.0, 0.0, 0.0, 0.0, 0.0],\n",
       " 'IMTA-CA': [6.97, 6.22, 5.08, 4.28, 3.04, 2.57, 1.96, 0.95]}"
      ]
     },
     "execution_count": 5,
     "metadata": {},
     "output_type": "execute_result"
    }
   ],
   "source": [
    "mono_modal"
   ]
  },
  {
   "cell_type": "code",
   "execution_count": 17,
   "metadata": {},
   "outputs": [
    {
     "data": {
      "text/plain": [
       "{'IMTA': [74.79, 51.15, 38.96, 33.12, 25.96, 23.39, 19.72, 13.32],\n",
       " 'IMTA-PA': [16.14, 13.2, 2.06, 0.12, 0.0, 0.0, 0.0, 0.0],\n",
       " 'IMTA-CA': [22.96, 16.89, 11.9, 9.97, 7.46, 6.68, 5.66, 3.97]}"
      ]
     },
     "execution_count": 17,
     "metadata": {},
     "output_type": "execute_result"
    }
   ],
   "source": [
    "mono_correct"
   ]
  },
  {
   "cell_type": "code",
   "execution_count": 7,
   "metadata": {},
   "outputs": [],
   "source": [
    "MODEL = 'IMTA'\n",
    "DATASET = 'cifar10'\n",
    "MODELS = [('model1_IMTA', 179, 'model1', 299), ('model_seed_1_IMTA', 179, 'model_seed_1', 299), ('model_seed_2_IMTA', 179, 'model_seed_2', 299)]\n",
    "\n",
    "# MODEL = 'IMTA'\n",
    "# DATASET = 'cifar100'\n",
    "# MODELS = [('model2_IMTA', 179, 'model1', 299), ('model_seed_1_IMTA', 179, 'model_seed_1', 299), ('model_seed_2_IMTA', 179, 'model_seed_2', 299)]"
   ]
  },
  {
   "cell_type": "code",
   "execution_count": 8,
   "metadata": {},
   "outputs": [
    {
     "name": "stdout",
     "output_type": "stream",
     "text": [
      "building network of steps: \n",
      "[4, 2, 2, 2, 2, 2, 2] 16\n",
      " ********************** Block 1  **********************\n",
      "|\t\tinScales 3 outScales 3 inChannels 16 outChannels 6\t\t|\n",
      "\n",
      "|\t\tinScales 3 outScales 3 inChannels 22 outChannels 6\t\t|\n",
      "\n",
      "|\t\tinScales 3 outScales 3 inChannels 28 outChannels 6\t\t|\n",
      "\n",
      "|\t\tinScales 3 outScales 3 inChannels 34 outChannels 6\t\t|\n",
      "\n",
      " ********************** Block 2  **********************\n",
      "|\t\tinScales 3 outScales 3 inChannels 40 outChannels 6\t\t|\n",
      "\n",
      "|\t\tinScales 3 outScales 3 inChannels 46 outChannels 6\t\t|\n",
      "\n",
      " ********************** Block 3  **********************\n",
      "|\t\tinScales 3 outScales 2 inChannels 52 outChannels 6\t\t|\n",
      "|\t\tTransition layer inserted! (max), inChannels 58, outChannels 29\t|\n",
      "\n",
      "|\t\tinScales 2 outScales 2 inChannels 29 outChannels 6\t\t|\n",
      "\n",
      " ********************** Block 4  **********************\n",
      "|\t\tinScales 2 outScales 2 inChannels 35 outChannels 6\t\t|\n",
      "\n",
      "|\t\tinScales 2 outScales 2 inChannels 41 outChannels 6\t\t|\n",
      "\n",
      " ********************** Block 5  **********************\n",
      "|\t\tinScales 2 outScales 2 inChannels 47 outChannels 6\t\t|\n",
      "\n",
      "|\t\tinScales 2 outScales 2 inChannels 53 outChannels 6\t\t|\n",
      "\n",
      " ********************** Block 6  **********************\n",
      "|\t\tinScales 2 outScales 1 inChannels 59 outChannels 6\t\t|\n",
      "|\t\tTransition layer inserted! (max), inChannels 65, outChannels 32\t|\n",
      "\n",
      "|\t\tinScales 1 outScales 1 inChannels 32 outChannels 6\t\t|\n",
      "\n",
      " ********************** Block 7  **********************\n",
      "|\t\tinScales 1 outScales 1 inChannels 38 outChannels 6\t\t|\n",
      "\n",
      "|\t\tinScales 1 outScales 1 inChannels 44 outChannels 6\t\t|\n",
      "\n",
      "!!!!!! Load pretrained model !!!!!!\n",
      "_models/cifar10/model1_IMTA/save_models/checkpoint_179.pth.tar\n",
      "Files already downloaded and verified\n",
      "Files already downloaded and verified\n",
      "!!!!!! Load train_set_index !!!!!!\n",
      "------------------------------------\n",
      "split num_sample_valid: 5000\n",
      "------------------------------------\n",
      "building network of steps: \n",
      "[4, 2, 2, 2, 2, 2, 2] 16\n",
      " ********************** Block 1  **********************\n",
      "|\t\tinScales 3 outScales 3 inChannels 16 outChannels 6\t\t|\n",
      "\n",
      "|\t\tinScales 3 outScales 3 inChannels 22 outChannels 6\t\t|\n",
      "\n",
      "|\t\tinScales 3 outScales 3 inChannels 28 outChannels 6\t\t|\n",
      "\n",
      "|\t\tinScales 3 outScales 3 inChannels 34 outChannels 6\t\t|\n",
      "\n",
      " ********************** Block 2  **********************\n",
      "|\t\tinScales 3 outScales 3 inChannels 40 outChannels 6\t\t|\n",
      "\n",
      "|\t\tinScales 3 outScales 3 inChannels 46 outChannels 6\t\t|\n",
      "\n",
      " ********************** Block 3  **********************\n",
      "|\t\tinScales 3 outScales 2 inChannels 52 outChannels 6\t\t|\n",
      "|\t\tTransition layer inserted! (max), inChannels 58, outChannels 29\t|\n",
      "\n",
      "|\t\tinScales 2 outScales 2 inChannels 29 outChannels 6\t\t|\n",
      "\n",
      " ********************** Block 4  **********************\n",
      "|\t\tinScales 2 outScales 2 inChannels 35 outChannels 6\t\t|\n",
      "\n",
      "|\t\tinScales 2 outScales 2 inChannels 41 outChannels 6\t\t|\n",
      "\n",
      " ********************** Block 5  **********************\n",
      "|\t\tinScales 2 outScales 2 inChannels 47 outChannels 6\t\t|\n",
      "\n",
      "|\t\tinScales 2 outScales 2 inChannels 53 outChannels 6\t\t|\n",
      "\n",
      " ********************** Block 6  **********************\n",
      "|\t\tinScales 2 outScales 1 inChannels 59 outChannels 6\t\t|\n",
      "|\t\tTransition layer inserted! (max), inChannels 65, outChannels 32\t|\n",
      "\n",
      "|\t\tinScales 1 outScales 1 inChannels 32 outChannels 6\t\t|\n",
      "\n",
      " ********************** Block 7  **********************\n",
      "|\t\tinScales 1 outScales 1 inChannels 38 outChannels 6\t\t|\n",
      "\n",
      "|\t\tinScales 1 outScales 1 inChannels 44 outChannels 6\t\t|\n",
      "\n",
      "!!!!!! Load pretrained model !!!!!!\n",
      "_models/cifar10/model_seed_1_IMTA/save_models/checkpoint_179.pth.tar\n",
      "Files already downloaded and verified\n",
      "Files already downloaded and verified\n",
      "!!!!!! Load train_set_index !!!!!!\n",
      "------------------------------------\n",
      "split num_sample_valid: 5000\n",
      "------------------------------------\n",
      "building network of steps: \n",
      "[4, 2, 2, 2, 2, 2, 2] 16\n",
      " ********************** Block 1  **********************\n",
      "|\t\tinScales 3 outScales 3 inChannels 16 outChannels 6\t\t|\n",
      "\n",
      "|\t\tinScales 3 outScales 3 inChannels 22 outChannels 6\t\t|\n",
      "\n",
      "|\t\tinScales 3 outScales 3 inChannels 28 outChannels 6\t\t|\n",
      "\n",
      "|\t\tinScales 3 outScales 3 inChannels 34 outChannels 6\t\t|\n",
      "\n",
      " ********************** Block 2  **********************\n",
      "|\t\tinScales 3 outScales 3 inChannels 40 outChannels 6\t\t|\n",
      "\n",
      "|\t\tinScales 3 outScales 3 inChannels 46 outChannels 6\t\t|\n",
      "\n",
      " ********************** Block 3  **********************\n",
      "|\t\tinScales 3 outScales 2 inChannels 52 outChannels 6\t\t|\n",
      "|\t\tTransition layer inserted! (max), inChannels 58, outChannels 29\t|\n",
      "\n",
      "|\t\tinScales 2 outScales 2 inChannels 29 outChannels 6\t\t|\n",
      "\n",
      " ********************** Block 4  **********************\n",
      "|\t\tinScales 2 outScales 2 inChannels 35 outChannels 6\t\t|\n",
      "\n",
      "|\t\tinScales 2 outScales 2 inChannels 41 outChannels 6\t\t|\n",
      "\n",
      " ********************** Block 5  **********************\n",
      "|\t\tinScales 2 outScales 2 inChannels 47 outChannels 6\t\t|\n",
      "\n",
      "|\t\tinScales 2 outScales 2 inChannels 53 outChannels 6\t\t|\n",
      "\n",
      " ********************** Block 6  **********************\n",
      "|\t\tinScales 2 outScales 1 inChannels 59 outChannels 6\t\t|\n",
      "|\t\tTransition layer inserted! (max), inChannels 65, outChannels 32\t|\n",
      "\n",
      "|\t\tinScales 1 outScales 1 inChannels 32 outChannels 6\t\t|\n",
      "\n",
      " ********************** Block 7  **********************\n",
      "|\t\tinScales 1 outScales 1 inChannels 38 outChannels 6\t\t|\n",
      "\n",
      "|\t\tinScales 1 outScales 1 inChannels 44 outChannels 6\t\t|\n",
      "\n",
      "!!!!!! Load pretrained model !!!!!!\n",
      "_models/cifar10/model_seed_2_IMTA/save_models/checkpoint_179.pth.tar\n",
      "Files already downloaded and verified\n",
      "Files already downloaded and verified\n",
      "!!!!!! Load train_set_index !!!!!!\n",
      "------------------------------------\n",
      "split num_sample_valid: 5000\n",
      "------------------------------------\n"
     ]
    },
    {
     "data": {
      "text/plain": [
       "({'IMTA': ([0.8925, 0.9089, 0.9176, 0.921, 0.9235, 0.9248, 0.9245],\n",
       "   [0.0018, 0.0018, 0.0004, 0.0014, 0.0023, 0.0024, 0.0026]),\n",
       "  'IMTA-PA': ([0.8925, 0.9066, 0.9152, 0.9194, 0.9221, 0.9238, 0.9251],\n",
       "   [0.0018, 0.0024, 0.0015, 0.0012, 0.0016, 0.0023, 0.0031]),\n",
       "  'IMTA-CA': ([0.8925, 0.9052, 0.9112, 0.9153, 0.9184, 0.92, 0.9213],\n",
       "   [0.0018, 0.003, 0.0013, 0.0007, 0.0012, 0.0018, 0.0019])},\n",
       " {'IMTA': ([47.1967, 20.29, 12.9467, 9.6467, 5.8733, 4.64, 2.9567, 0.9433],\n",
       "   [0.1506, 0.2913, 0.1109, 0.1297, 0.2082, 0.1867, 0.1223, 0.0403]),\n",
       "  'IMTA-PA': ([1.98, 1.24, 0.2467, 0.0233, 0.0, 0.0, 0.0, 0.0],\n",
       "   [0.1105, 0.098, 0.0478, 0.0125, 0.0, 0.0, 0.0, 0.0]),\n",
       "  'IMTA-CA': ([1.0267, 0.99, 0.8233, 0.6733, 0.42, 0.3167, 0.1733, 0.0667],\n",
       "   [0.0618, 0.0432, 0.033, 0.0624, 0.0829, 0.0499, 0.0249, 0.0262])},\n",
       " {'IMTA': ([47.41, 20.4333, 13.2567, 10.2267, 6.9067, 5.8333, 4.4, 2.49],\n",
       "   [0.0849, 0.3242, 0.3027, 0.2347, 0.2883, 0.2932, 0.2123, 0.1715]),\n",
       "  'IMTA-PA': ([7.82, 7.2033, 5.97, 4.99, 2.77, 1.4367, 0.3167, 0.0033],\n",
       "   [0.3144, 0.3565, 0.3494, 0.3303, 0.3244, 0.2869, 0.133, 0.0047]),\n",
       "  'IMTA-CA': ([5.67, 4.43, 3.32, 2.6867, 1.9833, 1.6933, 1.3567, 0.84],\n",
       "   [0.0779, 0.0993, 0.0648, 0.085, 0.0544, 0.0047, 0.0492, 0.0216])})"
      ]
     },
     "execution_count": 8,
     "metadata": {},
     "output_type": "execute_result"
    }
   ],
   "source": [
    "get_metrics_with_error_bars(model_name=MODEL, dataset=DATASET, model_list=MODELS)"
   ]
  },
  {
   "cell_type": "markdown",
   "metadata": {},
   "source": [
    "## 1 Anytime performance"
   ]
  },
  {
   "cell_type": "code",
   "execution_count": 6,
   "metadata": {},
   "outputs": [],
   "source": [
    "L = len(logits)\n",
    "N = logits.shape[1]"
   ]
  },
  {
   "cell_type": "code",
   "execution_count": 7,
   "metadata": {},
   "outputs": [
    {
     "data": {
      "text/plain": [
       "torch.Size([7, 10000, 10])"
      ]
     },
     "execution_count": 7,
     "metadata": {},
     "output_type": "execute_result"
    }
   ],
   "source": [
    "logits.shape"
   ]
  },
  {
   "cell_type": "code",
   "execution_count": 8,
   "metadata": {},
   "outputs": [],
   "source": [
    "probs = torch.softmax(logits, dim=2)\n",
    "preds = {i: torch.argmax(probs, dim=2)[i, :] for i in range(L)}\n",
    "acc = [(targets == preds[i]).sum() / len(targets) for i in range(L)]\n",
    "msp = {i: torch.max(probs, dim=2).values[i, :] for i in range(L)}"
   ]
  },
  {
   "cell_type": "code",
   "execution_count": 9,
   "metadata": {},
   "outputs": [
    {
     "data": {
      "text/plain": [
       "[0.89, 0.9064, 0.9181, 0.9201, 0.9237, 0.9258, 0.9259]"
      ]
     },
     "execution_count": 9,
     "metadata": {},
     "output_type": "execute_result"
    }
   ],
   "source": [
    "[round(float(x), 4) for x in acc]"
   ]
  },
  {
   "cell_type": "code",
   "execution_count": 10,
   "metadata": {},
   "outputs": [
    {
     "data": {
      "text/plain": [
       "[47.04, 19.98, 12.82, 9.83, 5.62, 4.55, 3.0, 1.0]"
      ]
     },
     "execution_count": 10,
     "metadata": {},
     "output_type": "execute_result"
    }
   ],
   "source": [
    "[round(x, 4) for x in modal_probs_decreasing(preds, probs, L, N=N, thresholds=[-0.0001, -0.01, -0.05, -0.1, -0.2, -0.25, -0.33, -0.5], diffs_type=\"all\").values()]"
   ]
  },
  {
   "cell_type": "code",
   "execution_count": 11,
   "metadata": {},
   "outputs": [],
   "source": [
    "probs_poe_ovr_break_ties = torch.tensor(f_probs_ovr_poe_logits_weighted(logits))\n",
    "preds_poe_ovr_break_ties = {i: torch.argmax(probs_poe_ovr_break_ties, dim=2)[i, :] for i in range(L)}\n",
    "acc_poe_ovr_break_ties = [(targets == preds_poe_ovr_break_ties[i]).sum() / len(targets) for i in range(L)]"
   ]
  },
  {
   "cell_type": "code",
   "execution_count": 12,
   "metadata": {},
   "outputs": [],
   "source": [
    "T = 1.\n",
    "probs_poe_ovr_break_ties_generalized = torch.tensor(f_probs_ovr_poe_logits_weighted_generalized(logits, weights=(np.arange(1, L + 1, 1, dtype=float) / L) * T))\n",
    "preds_poe_ovr_break_ties_generalized = {i: torch.argmax(probs_poe_ovr_break_ties_generalized, dim=2)[i, :] for i in range(L)}\n",
    "acc_poe_ovr_break_ties_generalized = [(targets == preds_poe_ovr_break_ties_generalized[i]).sum() / len(targets) for i in range(L)]"
   ]
  },
  {
   "cell_type": "code",
   "execution_count": 13,
   "metadata": {},
   "outputs": [
    {
     "data": {
      "text/plain": [
       "[0.89, 0.9033, 0.9131, 0.9186, 0.9215, 0.9227, 0.9252]"
      ]
     },
     "execution_count": 13,
     "metadata": {},
     "output_type": "execute_result"
    }
   ],
   "source": [
    "[round(float(x), 4) for x in acc_poe_ovr_break_ties_generalized]"
   ]
  },
  {
   "cell_type": "code",
   "execution_count": 14,
   "metadata": {},
   "outputs": [
    {
     "data": {
      "text/plain": [
       "[1.99, 1.24, 0.27, 0.01, 0.0, 0.0, 0.0, 0.0]"
      ]
     },
     "execution_count": 14,
     "metadata": {},
     "output_type": "execute_result"
    }
   ],
   "source": [
    "[round(x, 4) for x in modal_probs_decreasing(preds_poe_ovr_break_ties_generalized, \n",
    "                                            probs_poe_ovr_break_ties_generalized, L, N=N, thresholds=[-0.0001, -0.01, -0.05, -0.1, -0.2, -0.25, -0.33, -0.5], diffs_type=\"all\").values()]"
   ]
  },
  {
   "cell_type": "code",
   "execution_count": 15,
   "metadata": {},
   "outputs": [],
   "source": [
    "probs_stateful = probs_stateful = anytime_caching(probs, N=N, L=L)\n",
    "preds_stateful = {i: torch.argmax(probs_stateful, dim=2)[i, :] for i in range(L)}\n",
    "acc_stateful = [(targets == preds_stateful[i]).sum() / len(targets) for i in range(L)]"
   ]
  },
  {
   "cell_type": "code",
   "execution_count": 16,
   "metadata": {},
   "outputs": [
    {
     "data": {
      "text/plain": [
       "[0.89, 0.901, 0.9098, 0.9147, 0.9182, 0.9191, 0.9199]"
      ]
     },
     "execution_count": 16,
     "metadata": {},
     "output_type": "execute_result"
    }
   ],
   "source": [
    "[round(float(x), 4) for x in acc_stateful]"
   ]
  },
  {
   "cell_type": "code",
   "execution_count": 17,
   "metadata": {},
   "outputs": [
    {
     "data": {
      "text/plain": [
       "[1.08, 1.01, 0.86, 0.69, 0.44, 0.33, 0.2, 0.08]"
      ]
     },
     "execution_count": 17,
     "metadata": {},
     "output_type": "execute_result"
    }
   ],
   "source": [
    "[round(x, 4) for x in modal_probs_decreasing(preds_stateful, probs_stateful, L, N=N, thresholds=[-0.0001, -0.01, -0.05, -0.1, -0.2, -0.25, -0.33, -0.5], diffs_type=\"all\").values()]"
   ]
  },
  {
   "cell_type": "code",
   "execution_count": 14,
   "metadata": {},
   "outputs": [
    {
     "data": {
      "image/png": "[encoded data removed]",
      "text/plain": [
       "<Figure size 1500x500 with 2 Axes>"
      ]
     },
     "metadata": {},
     "output_type": "display_data"
    }
   ],
   "source": [
    "early_exits = [i + 1 for i in range(L)]\n",
    "fig, ax = plt.subplots(1, 2, figsize=(15, 5))\n",
    "ax[0].plot(early_exits, acc, label=f'{ARGS.arch}', marker='o',)\n",
    "ax[0].plot(early_exits, acc_poe_ovr_break_ties, label='PoE (logits-weighted OVR)', marker='o')\n",
    "ax[0].legend()\n",
    "# ax[0].set_title('anytime-prediction')\n",
    "ax[0].set_ylabel('test accuracy')\n",
    "ax[0].set_xlabel('early exit')\n",
    "\n",
    "for _preds, _probs, label in [\n",
    "                            (preds, probs, f'{ARGS.arch}'), \n",
    "                            (preds_poe_ovr_break_ties, probs_poe_ovr_break_ties, 'PoE (logits-weighted OVR)'),\n",
    "                            ]:\n",
    "    modal_probs = modal_probs_decreasing(_preds, _probs, L)\n",
    "    ax[1].plot(modal_probs.keys(), modal_probs.values(), marker='o', label=label)\n",
    "# ax[1].legend()\n",
    "# ax[1].set_title('anytime-prediction')\n",
    "ax[1].set_xlabel('max decrease in modal probability')\n",
    "ax[1].set_ylabel('% of test examples')\n",
    "\n",
    "\n",
    "plt.suptitle(f'anytime-prediction ({ARGS.data})')\n",
    "plt.show()"
   ]
  },
  {
   "cell_type": "code",
   "execution_count": 23,
   "metadata": {},
   "outputs": [
    {
     "data": {
      "text/plain": [
       "tensor(1.)"
      ]
     },
     "execution_count": 23,
     "metadata": {},
     "output_type": "execute_result"
    }
   ],
   "source": [
    "torch.sigmoid(torch.tensor(100.))"
   ]
  },
  {
   "cell_type": "code",
   "execution_count": null,
   "metadata": {},
   "outputs": [],
   "source": []
  }
 ],
 "metadata": {
  "kernelspec": {
   "display_name": "Python 3",
   "language": "python",
   "name": "python3"
  },
  "language_info": {
   "codemirror_mode": {
    "name": "ipython",
    "version": 3
   },
   "file_extension": ".py",
   "mimetype": "text/x-python",
   "name": "python",
   "nbconvert_exporter": "python",
   "pygments_lexer": "ipython3",
   "version": "3.8.16"
  },
  "orig_nbformat": 4,
  "vscode": {
   "interpreter": {
    "hash": "36cf16204b8548560b1c020c4e8fb5b57f0e4c58016f52f2d4be01e192833930"
   }
  }
 },
 "nbformat": 4,
 "nbformat_minor": 2
}
